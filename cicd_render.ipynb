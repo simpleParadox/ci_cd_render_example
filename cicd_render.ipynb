{
 "cells": [
  {
   "cell_type": "code",
   "execution_count": 9,
   "id": "be84570c",
   "metadata": {},
   "outputs": [],
   "source": [
    "import numpy as np\n",
    "import pandas as pd\n",
    "import matplotlib.pyplot as plt\n",
    "from sklearn.svm import SVC, SVR\n",
    "from sklearn.linear_model import LogisticRegression, Ridge\n",
    "from sklearn.tree import DecisionTreeRegressor\n",
    "from sklearn.model_selection import train_test_split\n",
    "from sklearn import datasets\n",
    "import pickle"
   ]
  },
  {
   "cell_type": "code",
   "execution_count": 2,
   "id": "5f99e7fd",
   "metadata": {},
   "outputs": [],
   "source": [
    "# X, y = datasets.load_iris(return_X_y=True, as_frame=True)\n",
    "X, y = datasets.fetch_california_housing(return_X_y=True, as_frame=True)"
   ]
  },
  {
   "cell_type": "code",
   "execution_count": 3,
   "id": "dbdc21ee",
   "metadata": {
    "scrolled": true
   },
   "outputs": [
    {
     "data": {
      "text/html": [
       "<div>\n",
       "<style scoped>\n",
       "    .dataframe tbody tr th:only-of-type {\n",
       "        vertical-align: middle;\n",
       "    }\n",
       "\n",
       "    .dataframe tbody tr th {\n",
       "        vertical-align: top;\n",
       "    }\n",
       "\n",
       "    .dataframe thead th {\n",
       "        text-align: right;\n",
       "    }\n",
       "</style>\n",
       "<table border=\"1\" class=\"dataframe\">\n",
       "  <thead>\n",
       "    <tr style=\"text-align: right;\">\n",
       "      <th></th>\n",
       "      <th>MedInc</th>\n",
       "      <th>HouseAge</th>\n",
       "      <th>AveRooms</th>\n",
       "      <th>AveBedrms</th>\n",
       "      <th>Population</th>\n",
       "      <th>AveOccup</th>\n",
       "      <th>Latitude</th>\n",
       "      <th>Longitude</th>\n",
       "    </tr>\n",
       "  </thead>\n",
       "  <tbody>\n",
       "    <tr>\n",
       "      <th>0</th>\n",
       "      <td>8.3252</td>\n",
       "      <td>41.0</td>\n",
       "      <td>6.984127</td>\n",
       "      <td>1.023810</td>\n",
       "      <td>322.0</td>\n",
       "      <td>2.555556</td>\n",
       "      <td>37.88</td>\n",
       "      <td>-122.23</td>\n",
       "    </tr>\n",
       "    <tr>\n",
       "      <th>1</th>\n",
       "      <td>8.3014</td>\n",
       "      <td>21.0</td>\n",
       "      <td>6.238137</td>\n",
       "      <td>0.971880</td>\n",
       "      <td>2401.0</td>\n",
       "      <td>2.109842</td>\n",
       "      <td>37.86</td>\n",
       "      <td>-122.22</td>\n",
       "    </tr>\n",
       "    <tr>\n",
       "      <th>2</th>\n",
       "      <td>7.2574</td>\n",
       "      <td>52.0</td>\n",
       "      <td>8.288136</td>\n",
       "      <td>1.073446</td>\n",
       "      <td>496.0</td>\n",
       "      <td>2.802260</td>\n",
       "      <td>37.85</td>\n",
       "      <td>-122.24</td>\n",
       "    </tr>\n",
       "    <tr>\n",
       "      <th>3</th>\n",
       "      <td>5.6431</td>\n",
       "      <td>52.0</td>\n",
       "      <td>5.817352</td>\n",
       "      <td>1.073059</td>\n",
       "      <td>558.0</td>\n",
       "      <td>2.547945</td>\n",
       "      <td>37.85</td>\n",
       "      <td>-122.25</td>\n",
       "    </tr>\n",
       "    <tr>\n",
       "      <th>4</th>\n",
       "      <td>3.8462</td>\n",
       "      <td>52.0</td>\n",
       "      <td>6.281853</td>\n",
       "      <td>1.081081</td>\n",
       "      <td>565.0</td>\n",
       "      <td>2.181467</td>\n",
       "      <td>37.85</td>\n",
       "      <td>-122.25</td>\n",
       "    </tr>\n",
       "  </tbody>\n",
       "</table>\n",
       "</div>"
      ],
      "text/plain": [
       "   MedInc  HouseAge  AveRooms  AveBedrms  Population  AveOccup  Latitude  \\\n",
       "0  8.3252      41.0  6.984127   1.023810       322.0  2.555556     37.88   \n",
       "1  8.3014      21.0  6.238137   0.971880      2401.0  2.109842     37.86   \n",
       "2  7.2574      52.0  8.288136   1.073446       496.0  2.802260     37.85   \n",
       "3  5.6431      52.0  5.817352   1.073059       558.0  2.547945     37.85   \n",
       "4  3.8462      52.0  6.281853   1.081081       565.0  2.181467     37.85   \n",
       "\n",
       "   Longitude  \n",
       "0    -122.23  \n",
       "1    -122.22  \n",
       "2    -122.24  \n",
       "3    -122.25  \n",
       "4    -122.25  "
      ]
     },
     "execution_count": 3,
     "metadata": {},
     "output_type": "execute_result"
    }
   ],
   "source": [
    "X.head()"
   ]
  },
  {
   "cell_type": "markdown",
   "id": "ba8d6d74",
   "metadata": {},
   "source": [
    "## Let's train a simple SupportVectorMachine model to classify the iris species"
   ]
  },
  {
   "cell_type": "code",
   "execution_count": 4,
   "id": "7b789ef2",
   "metadata": {},
   "outputs": [],
   "source": [
    "# Divide the dataset into training and test sets and then train a model with default hyperparameters.\n",
    "X_train, X_test, y_train, y_test = train_test_split(X, y, test_size=0.2, random_state=42)"
   ]
  },
  {
   "cell_type": "code",
   "execution_count": 5,
   "id": "e6a05bfc",
   "metadata": {},
   "outputs": [
    {
     "data": {
      "text/plain": [
       "14196    1.030\n",
       "8267     3.821\n",
       "17445    1.726\n",
       "14265    0.934\n",
       "2271     0.965\n",
       "Name: MedHouseVal, dtype: float64"
      ]
     },
     "execution_count": 5,
     "metadata": {},
     "output_type": "execute_result"
    }
   ],
   "source": [
    "y_train.head()"
   ]
  },
  {
   "cell_type": "code",
   "execution_count": 6,
   "id": "3ee369d2",
   "metadata": {},
   "outputs": [
    {
     "data": {
      "text/plain": [
       "Ridge(random_state=42)"
      ]
     },
     "execution_count": 6,
     "metadata": {},
     "output_type": "execute_result"
    }
   ],
   "source": [
    "# Train the model.\n",
    "model = Ridge(random_state=42)\n",
    "model.fit(X_train, y_train)"
   ]
  },
  {
   "cell_type": "code",
   "execution_count": 7,
   "id": "379d11e8",
   "metadata": {},
   "outputs": [
    {
     "name": "stdout",
     "output_type": "stream",
     "text": [
      "0.5758549611440126\n"
     ]
    }
   ],
   "source": [
    "# Let's check the R2 score.\n",
    "print(model.score(X_test, y_test)) # The R2 score is bpretty good."
   ]
  },
  {
   "cell_type": "markdown",
   "id": "6787fb0d",
   "metadata": {},
   "source": [
    "### An R2 score of 0.57 is good. Let's deploy the app to Render."
   ]
  },
  {
   "cell_type": "markdown",
   "id": "ce1b7ad6",
   "metadata": {},
   "source": [
    "Let's save the trained the model to disk and push it to github."
   ]
  },
  {
   "cell_type": "code",
   "execution_count": 11,
   "id": "c7672110",
   "metadata": {},
   "outputs": [],
   "source": [
    "filename = \"best_model.pickle\"\n",
    "# save model\n",
    "pickle.dump(model, open(filename, \"wb\"))\n",
    "# The model can be loaded as follows. This has been done in 'app.py'.\n",
    "# loaded_model = pickle.load(open(filename, \"rb\"))"
   ]
  },
  {
   "cell_type": "markdown",
   "id": "8bd54c87",
   "metadata": {},
   "source": [
    "Follow the steps below to set up a Github repository for this example project.\n",
    "1. Create an account on Github (if you do not have one).\n",
    "2. Create a new repository that will store the files on Github. Follow the instructions here to create a new repository."
   ]
  },
  {
   "cell_type": "markdown",
   "id": "a40ef094",
   "metadata": {},
   "source": [
    "### Now let's compare the performance of the LinearRegression with a DecisionTree model."
   ]
  },
  {
   "cell_type": "code",
   "execution_count": 71,
   "id": "7b0231bd",
   "metadata": {},
   "outputs": [
    {
     "name": "stdout",
     "output_type": "stream",
     "text": [
      "0.622075845135081\n"
     ]
    }
   ],
   "source": [
    "# This is just a test block. Do not put this in the final block.\n",
    "dt = DecisionTreeRegressor(random_state=42)\n",
    "dt.fit(X_train, y_train)\n",
    "print(dt.score(X_test, y_test))"
   ]
  },
  {
   "cell_type": "markdown",
   "id": "d8328692",
   "metadata": {},
   "source": [
    "Given the configuration hyperparameters (random_states), the DecisionTree model seems to perform better than a simple LinearRegression model.\n",
    "NOTE: Although this is a simple comparison between two models, ideally we want to have a comprehensive analysis. For our example, we will use this simple comparison."
   ]
  },
  {
   "cell_type": "markdown",
   "id": "986713eb",
   "metadata": {},
   "source": [
    "Let's deploy the DecisionTree model as a web app so that we can make predictions."
   ]
  },
  {
   "cell_type": "markdown",
   "id": "3d96320b",
   "metadata": {},
   "source": [
    "We are going to save the model so that we can deploy it later on Render. A python script called 'app.py' will load the saved model and then provide a simple interface to tweak the values of the input features."
   ]
  },
  {
   "cell_type": "code",
   "execution_count": 77,
   "id": "54483a96",
   "metadata": {},
   "outputs": [
    {
     "name": "stdout",
     "output_type": "stream",
     "text": [
      "{'ccp_alpha': 0.0, 'criterion': 'squared_error', 'max_depth': None, 'max_features': None, 'max_leaf_nodes': None, 'min_impurity_decrease': 0.0, 'min_samples_leaf': 1, 'min_samples_split': 2, 'min_weight_fraction_leaf': 0.0, 'random_state': 42, 'splitter': 'best'}\n"
     ]
    }
   ],
   "source": [
    "print(dt.get_params())"
   ]
  },
  {
   "cell_type": "code",
   "execution_count": 68,
   "id": "1722b9c4",
   "metadata": {},
   "outputs": [],
   "source": [
    "# Save the model to disk.\n",
    "import pickle"
   ]
  },
  {
   "cell_type": "code",
   "execution_count": 79,
   "id": "d164008a",
   "metadata": {},
   "outputs": [],
   "source": [
    "filename = \"best_model.pickle\"\n",
    "# save model\n",
    "pickle.dump(dt, open(filename, \"wb\"))\n",
    "# save the best model configuration.\n",
    "np.savez_compressed(\"best_model_params.npz\", dt.get_params())\n",
    "\n",
    "# The model can be loaded as follows. This has been done in 'app.py'.\n",
    "# loaded_model = pickle.load(open(filename, \"rb\"))"
   ]
  },
  {
   "cell_type": "markdown",
   "id": "b4202649",
   "metadata": {},
   "source": [
    "NOTE: Make sure to add the newly saved model to the git commit."
   ]
  },
  {
   "cell_type": "markdown",
   "id": "a00a8f08",
   "metadata": {},
   "source": [
    "# Exercise: Are there better models?\n",
    "Go through the scikit-learn documentation and try training other models and see if you can get better performance than the decision tree?"
   ]
  },
  {
   "cell_type": "code",
   "execution_count": 81,
   "id": "fbb1e3f6",
   "metadata": {},
   "outputs": [
    {
     "name": "stdout",
     "output_type": "stream",
     "text": [
      "0.8051230593157366\n"
     ]
    }
   ],
   "source": [
    "# Solution\n",
    "from sklearn.ensemble import RandomForestRegressor\n",
    "rf = RandomForestRegressor(random_state=42)\n",
    "rf.fit(X_train, y_train)\n",
    "print(rf.score(X_test, y_test))"
   ]
  },
  {
   "cell_type": "markdown",
   "id": "3d7fb256",
   "metadata": {},
   "source": [
    "Save the best model and push it to GitHub."
   ]
  },
  {
   "cell_type": "code",
   "execution_count": null,
   "id": "f6cd6877",
   "metadata": {},
   "outputs": [],
   "source": []
  }
 ],
 "metadata": {
  "kernelspec": {
   "display_name": "Python 3 (ipykernel)",
   "language": "python",
   "name": "python3"
  },
  "language_info": {
   "codemirror_mode": {
    "name": "ipython",
    "version": 3
   },
   "file_extension": ".py",
   "mimetype": "text/x-python",
   "name": "python",
   "nbconvert_exporter": "python",
   "pygments_lexer": "ipython3",
   "version": "3.7.4"
  }
 },
 "nbformat": 4,
 "nbformat_minor": 5
}
